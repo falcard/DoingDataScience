{
 "cells": [
  {
   "cell_type": "markdown",
   "metadata": {
    "collapsed": true
   },
   "source": [
    "Question 1"
   ]
  },
  {
   "cell_type": "code",
   "execution_count": 32,
   "metadata": {
    "collapsed": false
   },
   "outputs": [
    {
     "name": "stdout",
     "output_type": "stream",
     "text": [
      "[45.4, 44.2, 36.8, 35.1, 39.0, 60.0, 47.4, 41.1, 45.8, 35.6]\n"
     ]
    }
   ],
   "source": [
    "list1 = [45.4, 44.2, 36.8, 35.1, 39.0, 60.0, 47.4, 41.1, 45.8, 35.6]\n",
    "print list1"
   ]
  },
  {
   "cell_type": "code",
   "execution_count": 33,
   "metadata": {
    "collapsed": false
   },
   "outputs": [
    {
     "name": "stdout",
     "output_type": "stream",
     "text": [
      "[45.4, 44.2, 36.8, 35.1, 39.0, 60.0, 47.4, 41.1, 45.8, 35.6, 55.2]\n"
     ]
    }
   ],
   "source": [
    "list1.append(55.2)\n",
    "print list1"
   ]
  },
  {
   "cell_type": "code",
   "execution_count": 34,
   "metadata": {
    "collapsed": false
   },
   "outputs": [
    {
     "name": "stdout",
     "output_type": "stream",
     "text": [
      "[45.4, 44.2, 36.8, 35.1, 39.0, 47.4, 41.1, 45.8, 35.6, 55.2]\n"
     ]
    }
   ],
   "source": [
    "list1.pop(5)\n",
    "print list1"
   ]
  },
  {
   "cell_type": "code",
   "execution_count": 35,
   "metadata": {
    "collapsed": false
   },
   "outputs": [
    {
     "name": "stdout",
     "output_type": "stream",
     "text": [
      "45.4\n",
      "47.4\n",
      "45.8\n",
      "55.2\n"
     ]
    }
   ],
   "source": [
    "for number in list1:\n",
    "    if number > 45:\n",
    "        print number"
   ]
  },
  {
   "cell_type": "markdown",
   "metadata": {},
   "source": [
    "Question 2"
   ]
  },
  {
   "cell_type": "code",
   "execution_count": 36,
   "metadata": {
    "collapsed": true
   },
   "outputs": [],
   "source": [
    "import numpy as np"
   ]
  },
  {
   "cell_type": "code",
   "execution_count": 37,
   "metadata": {
    "collapsed": false
   },
   "outputs": [
    {
     "name": "stdout",
     "output_type": "stream",
     "text": [
      "[ 45.4  44.2  36.8  35.1  39.   60.   47.4  41.1  45.8  35.6]\n"
     ]
    }
   ],
   "source": [
    "x = np.array([45.4, 44.2, 36.8, 35.1, 39.0, 60.0, 47.4, 41.1, 45.8, 35.6])\n",
    "print x"
   ]
  },
  {
   "cell_type": "code",
   "execution_count": 38,
   "metadata": {
    "collapsed": false
   },
   "outputs": [
    {
     "name": "stdout",
     "output_type": "stream",
     "text": [
      "43.04\n",
      "7.06118970146\n"
     ]
    }
   ],
   "source": [
    "s = np.mean(x)\n",
    "print s\n",
    "std = np.std(x)\n",
    "print std"
   ]
  },
  {
   "cell_type": "code",
   "execution_count": 39,
   "metadata": {
    "collapsed": false
   },
   "outputs": [
    {
     "name": "stdout",
     "output_type": "stream",
     "text": [
      "[ 44.2  36.8  35.1  39.   41.1  35.6]\n"
     ]
    }
   ],
   "source": [
    "condition = x < 45\n",
    "v = np.extract(condition, x)\n",
    "print v"
   ]
  },
  {
   "cell_type": "code",
   "execution_count": 40,
   "metadata": {
    "collapsed": false
   },
   "outputs": [
    {
     "name": "stdout",
     "output_type": "stream",
     "text": [
      "60.0\n",
      "35.1\n"
     ]
    }
   ],
   "source": [
    "up = np.max(x)\n",
    "print up\n",
    "down = np.min(x)\n",
    "print down"
   ]
  },
  {
   "cell_type": "markdown",
   "metadata": {},
   "source": [
    "Question 3"
   ]
  },
  {
   "cell_type": "code",
   "execution_count": 41,
   "metadata": {
    "collapsed": true
   },
   "outputs": [],
   "source": [
    "import pandas as pd"
   ]
  },
  {
   "cell_type": "code",
   "execution_count": 42,
   "metadata": {
    "collapsed": true
   },
   "outputs": [],
   "source": [
    "filepath = \"E:\\CSV\\iris.csv\"\n",
    "iris = pd.read_csv(filepath)"
   ]
  },
  {
   "cell_type": "code",
   "execution_count": 43,
   "metadata": {
    "collapsed": false
   },
   "outputs": [
    {
     "name": "stdout",
     "output_type": "stream",
     "text": [
      "   Id  SepalLengthCm  SepalWidthCm  PetalLengthCm  PetalWidthCm      Species\n",
      "0   1            5.1           3.5            1.4           0.2  Iris-setosa\n",
      "1   2            4.9           3.0            1.4           0.2  Iris-setosa\n",
      "2   3            4.7           3.2            1.3           0.2  Iris-setosa\n",
      "3   4            4.6           3.1            1.5           0.2  Iris-setosa\n",
      "4   5            5.0           3.6            1.4           0.2  Iris-setosa\n"
     ]
    }
   ],
   "source": [
    "print iris.head()"
   ]
  },
  {
   "cell_type": "code",
   "execution_count": 44,
   "metadata": {
    "collapsed": false
   },
   "outputs": [
    {
     "name": "stdout",
     "output_type": "stream",
     "text": [
      "   SepalLengthCm  SepalWidthCm  PetalLengthCm  PetalWidthCm      Species\n",
      "0            5.1           3.5            1.4           0.2  Iris-setosa\n",
      "1            4.9           3.0            1.4           0.2  Iris-setosa\n",
      "2            4.7           3.2            1.3           0.2  Iris-setosa\n",
      "3            4.6           3.1            1.5           0.2  Iris-setosa\n",
      "4            5.0           3.6            1.4           0.2  Iris-setosa\n"
     ]
    }
   ],
   "source": [
    "iris2 = iris.drop('Id', axis=1)\n",
    "print iris2.head()"
   ]
  },
  {
   "cell_type": "code",
   "execution_count": 45,
   "metadata": {
    "collapsed": false
   },
   "outputs": [
    {
     "name": "stdout",
     "output_type": "stream",
     "text": [
      "    SepalLengthCm  SepalWidthCm  PetalLengthCm  PetalWidthCm\n",
      "0             5.1           3.5            1.4           0.2\n",
      "1             4.9           3.0            1.4           0.2\n",
      "2             4.7           3.2            1.3           0.2\n",
      "3             4.6           3.1            1.5           0.2\n",
      "4             5.0           3.6            1.4           0.2\n",
      "5             5.4           3.9            1.7           0.4\n",
      "6             4.6           3.4            1.4           0.3\n",
      "7             5.0           3.4            1.5           0.2\n",
      "8             4.4           2.9            1.4           0.2\n",
      "9             4.9           3.1            1.5           0.1\n",
      "10            5.4           3.7            1.5           0.2\n",
      "11            4.8           3.4            1.6           0.2\n",
      "12            4.8           3.0            1.4           0.1\n",
      "13            4.3           3.0            1.1           0.1\n",
      "14            5.8           4.0            1.2           0.2\n",
      "15            5.7           4.4            1.5           0.4\n",
      "16            5.4           3.9            1.3           0.4\n",
      "17            5.1           3.5            1.4           0.3\n",
      "18            5.7           3.8            1.7           0.3\n",
      "19            5.1           3.8            1.5           0.3\n",
      "20            5.4           3.4            1.7           0.2\n",
      "21            5.1           3.7            1.5           0.4\n",
      "22            4.6           3.6            1.0           0.2\n",
      "23            5.1           3.3            1.7           0.5\n",
      "24            4.8           3.4            1.9           0.2\n",
      "25            5.0           3.0            1.6           0.2\n",
      "26            5.0           3.4            1.6           0.4\n",
      "27            5.2           3.5            1.5           0.2\n",
      "28            5.2           3.4            1.4           0.2\n",
      "29            4.7           3.2            1.6           0.2\n",
      "30            4.8           3.1            1.6           0.2\n",
      "31            5.4           3.4            1.5           0.4\n",
      "32            5.2           4.1            1.5           0.1\n",
      "33            5.5           4.2            1.4           0.2\n",
      "34            4.9           3.1            1.5           0.1\n",
      "35            5.0           3.2            1.2           0.2\n",
      "36            5.5           3.5            1.3           0.2\n",
      "37            4.9           3.1            1.5           0.1\n",
      "38            4.4           3.0            1.3           0.2\n",
      "39            5.1           3.4            1.5           0.2\n",
      "40            5.0           3.5            1.3           0.3\n",
      "41            4.5           2.3            1.3           0.3\n",
      "42            4.4           3.2            1.3           0.2\n",
      "43            5.0           3.5            1.6           0.6\n",
      "44            5.1           3.8            1.9           0.4\n",
      "45            4.8           3.0            1.4           0.3\n",
      "46            5.1           3.8            1.6           0.2\n",
      "47            4.6           3.2            1.4           0.2\n",
      "48            5.3           3.7            1.5           0.2\n",
      "49            5.0           3.3            1.4           0.2\n"
     ]
    }
   ],
   "source": [
    "setosa = iris[iris.Species == \"Iris-setosa\"]\n",
    "setosa = setosa.drop('Id', axis=1)\n",
    "setosa = setosa.drop('Species', axis=1)\n",
    "print setosa"
   ]
  },
  {
   "cell_type": "code",
   "execution_count": 46,
   "metadata": {
    "collapsed": false
   },
   "outputs": [
    {
     "name": "stdout",
     "output_type": "stream",
     "text": [
      "       SepalLengthCm  SepalWidthCm  PetalLengthCm  PetalWidthCm\n",
      "count     150.000000    150.000000     150.000000    150.000000\n",
      "mean        5.843333      3.054000       3.758667      1.198667\n",
      "std         0.828066      0.433594       1.764420      0.763161\n",
      "min         4.300000      2.000000       1.000000      0.100000\n",
      "25%         5.100000      2.800000       1.600000      0.300000\n",
      "50%         5.800000      3.000000       4.350000      1.300000\n",
      "75%         6.400000      3.300000       5.100000      1.800000\n",
      "max         7.900000      4.400000       6.900000      2.500000\n"
     ]
    }
   ],
   "source": [
    "summary = iris2.describe()\n",
    "print summary"
   ]
  },
  {
   "cell_type": "code",
   "execution_count": 47,
   "metadata": {
    "collapsed": false
   },
   "outputs": [
    {
     "name": "stdout",
     "output_type": "stream",
     "text": [
      "                       PetalLengthCm  PetalWidthCm  SepalLengthCm  \\\n",
      "Species                                                             \n",
      "Iris-setosa     count      50.000000     50.000000      50.000000   \n",
      "                mean        1.464000      0.244000       5.006000   \n",
      "                std         0.173511      0.107210       0.352490   \n",
      "                min         1.000000      0.100000       4.300000   \n",
      "                25%         1.400000      0.200000       4.800000   \n",
      "                50%         1.500000      0.200000       5.000000   \n",
      "                75%         1.575000      0.300000       5.200000   \n",
      "                max         1.900000      0.600000       5.800000   \n",
      "Iris-versicolor count      50.000000     50.000000      50.000000   \n",
      "                mean        4.260000      1.326000       5.936000   \n",
      "                std         0.469911      0.197753       0.516171   \n",
      "                min         3.000000      1.000000       4.900000   \n",
      "                25%         4.000000      1.200000       5.600000   \n",
      "                50%         4.350000      1.300000       5.900000   \n",
      "                75%         4.600000      1.500000       6.300000   \n",
      "                max         5.100000      1.800000       7.000000   \n",
      "Iris-virginica  count      50.000000     50.000000      50.000000   \n",
      "                mean        5.552000      2.026000       6.588000   \n",
      "                std         0.551895      0.274650       0.635880   \n",
      "                min         4.500000      1.400000       4.900000   \n",
      "                25%         5.100000      1.800000       6.225000   \n",
      "                50%         5.550000      2.000000       6.500000   \n",
      "                75%         5.875000      2.300000       6.900000   \n",
      "                max         6.900000      2.500000       7.900000   \n",
      "\n",
      "                       SepalWidthCm  \n",
      "Species                              \n",
      "Iris-setosa     count     50.000000  \n",
      "                mean       3.418000  \n",
      "                std        0.381024  \n",
      "                min        2.300000  \n",
      "                25%        3.125000  \n",
      "                50%        3.400000  \n",
      "                75%        3.675000  \n",
      "                max        4.400000  \n",
      "Iris-versicolor count     50.000000  \n",
      "                mean       2.770000  \n",
      "                std        0.313798  \n",
      "                min        2.000000  \n",
      "                25%        2.525000  \n",
      "                50%        2.800000  \n",
      "                75%        3.000000  \n",
      "                max        3.400000  \n",
      "Iris-virginica  count     50.000000  \n",
      "                mean       2.974000  \n",
      "                std        0.322497  \n",
      "                min        2.200000  \n",
      "                25%        2.800000  \n",
      "                50%        3.000000  \n",
      "                75%        3.175000  \n",
      "                max        3.800000  \n"
     ]
    }
   ],
   "source": [
    "sumgroup = iris2.groupby(iris2['Species']).describe()\n",
    "print sumgroup"
   ]
  },
  {
   "cell_type": "code",
   "execution_count": 48,
   "metadata": {
    "collapsed": false
   },
   "outputs": [
    {
     "name": "stdout",
     "output_type": "stream",
     "text": [
      "[[<matplotlib.axes._subplots.AxesSubplot object at 0x0000000008DCE6A0>\n",
      "  <matplotlib.axes._subplots.AxesSubplot object at 0x000000000A8E9CF8>]\n",
      " [<matplotlib.axes._subplots.AxesSubplot object at 0x000000000A5F2320>\n",
      "  <matplotlib.axes._subplots.AxesSubplot object at 0x000000000AB63BA8>]]\n"
     ]
    }
   ],
   "source": [
    "box = iris2.boxplot(by='Species')\n",
    "print box"
   ]
  },
  {
   "cell_type": "code",
   "execution_count": 49,
   "metadata": {
    "collapsed": false
   },
   "outputs": [
    {
     "data": {
      "text/plain": [
       "<seaborn.axisgrid.PairGrid at 0xa92f240>"
      ]
     },
     "execution_count": 49,
     "metadata": {},
     "output_type": "execute_result"
    }
   ],
   "source": [
    "import seaborn as sns\n",
    "sns.pairplot(iris2, hue='Species')"
   ]
  },
  {
   "cell_type": "code",
   "execution_count": null,
   "metadata": {
    "collapsed": true
   },
   "outputs": [],
   "source": []
  }
 ],
 "metadata": {
  "kernelspec": {
   "display_name": "Python [default]",
   "language": "python",
   "name": "python2"
  },
  "language_info": {
   "codemirror_mode": {
    "name": "ipython",
    "version": 2
   },
   "file_extension": ".py",
   "mimetype": "text/x-python",
   "name": "python",
   "nbconvert_exporter": "python",
   "pygments_lexer": "ipython2",
   "version": "2.7.12"
  }
 },
 "nbformat": 4,
 "nbformat_minor": 0
}
